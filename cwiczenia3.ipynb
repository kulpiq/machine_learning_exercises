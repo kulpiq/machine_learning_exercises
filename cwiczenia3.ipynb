{
 "cells": [
  {
   "cell_type": "code",
   "execution_count": null,
   "id": "642d02ab",
   "metadata": {},
   "outputs": [],
   "source": [
    "import pandas as pd\n",
    "import matplotlib.pyplot as plt"
   ]
  },
  {
   "cell_type": "code",
   "execution_count": 19,
   "id": "cae3648e",
   "metadata": {},
   "outputs": [
    {
     "name": "stdout",
     "output_type": "stream",
     "text": [
      "   gender age  hypertension  heart_disease  ever_married  Residence_type  \\\n",
      "0       1  67             0            1.0             1               1   \n",
      "1       1  80             0            1.0             1               0   \n",
      "2       0  49             0            0.0             1               1   \n",
      "3       0  79             1            NaN             1               0   \n",
      "4       1  81             0            0.0             1               1   \n",
      "\n",
      "  avg_glucose_level   bmi  stroke  work_type_Never_worked  work_type_Private  \\\n",
      "0            228,69  36,6       1                       0                  1   \n",
      "1            105,92  32,5       1                       0                  1   \n",
      "2            171,23  34,4       1                       0                  1   \n",
      "3            174,12    24       1                       0                  0   \n",
      "4            186,21    29       1                       0                  1   \n",
      "\n",
      "   work_type_Self-employed  work_type_children  \\\n",
      "0                        0                   0   \n",
      "1                        0                   0   \n",
      "2                        0                   0   \n",
      "3                        1                   0   \n",
      "4                        0                   0   \n",
      "\n",
      "   smoking_status_formerly smoked  smoking_status_never smoked  \\\n",
      "0                               1                            0   \n",
      "1                               0                            1   \n",
      "2                               0                            0   \n",
      "3                               0                            1   \n",
      "4                               1                            0   \n",
      "\n",
      "   smoking_status_smokes  \n",
      "0                      0  \n",
      "1                      0  \n",
      "2                      1  \n",
      "3                      0  \n",
      "4                      0  \n"
     ]
    }
   ],
   "source": [
    "# dane stroke.csv\n",
    "df = pd.read_csv(\"C:/Users/Dominika/Desktop/IiE/Uczenie maszynowe/zaj3_Stroke.csv\", sep=';')\n",
    "df['gender'] = df['gender'].map({'Male': 1, 'Female': 0})\n",
    "df['ever_married'] = df['ever_married'].map({'Yes': 1, 'No': 0})    \n",
    "df['Residence_type'] = df['Residence_type'].map({'Urban': 1, 'Rural': 0})    \n",
    "df = pd.get_dummies(df, columns=['work_type', 'smoking_status'], drop_first=True)  \n",
    "df = df.astype(int, errors='ignore')\n",
    "print(df.head())"
   ]
  },
  {
   "cell_type": "code",
   "execution_count": 4,
   "metadata": {},
   "outputs": [
    {
     "name": "stdout",
     "output_type": "stream",
     "text": [
      "(305, 16)\n"
     ]
    }
   ],
   "source": [
    "# Usuwanie danych brakujących\n",
    "df_clean = df.dropna()\n",
    "print(df_clean.shape)"
   ]
  },
  {
   "cell_type": "markdown",
   "id": "8939708d",
   "metadata": {},
   "source": [
    "metody eliminacji:\n",
    "- średnia - brak wartości odstających, mediana - jak duzo wartości odstających, interpolacja, regresja jak są ilościowe, knn jak są kategoryczne, najczesciej występująca wartość - może zaburzyć rozkład"
   ]
  },
  {
   "cell_type": "code",
   "execution_count": 17,
   "id": "94c93558",
   "metadata": {},
   "outputs": [
    {
     "name": "stdout",
     "output_type": "stream",
     "text": [
      "    Age  Sex  RestingBP  Cholesterol  FastingBS  MaxHR  ExerciseAngina  \\\n",
      "0  40.0    1        140        289.0          0    172             0.0   \n",
      "1  49.0    0        160        180.0          0    156             0.0   \n",
      "2  37.0    1        130        283.0          0     98             0.0   \n",
      "3  48.0    0        138        214.0          0    108             1.0   \n",
      "4  54.0    1        150        195.0          0    122             0.0   \n",
      "\n",
      "  Oldpeak  HeartDisease  ChestPainType_ATA  ChestPainType_NAP  \\\n",
      "0       0             0                  1                  0   \n",
      "1       1             1                  0                  1   \n",
      "2       0             0                  1                  0   \n",
      "3     1,5             1                  0                  0   \n",
      "4       0             0                  0                  1   \n",
      "\n",
      "   ChestPainType_TA  RestingECG_Normal  RestingECG_ST  ST_Slope_Flat  \\\n",
      "0                 0                  1              0              0   \n",
      "1                 0                  1              0              1   \n",
      "2                 0                  0              1              0   \n",
      "3                 0                  1              0              1   \n",
      "4                 0                  1              0              0   \n",
      "\n",
      "   ST_Slope_Up  \n",
      "0            1  \n",
      "1            0  \n",
      "2            1  \n",
      "3            0  \n",
      "4            1  \n"
     ]
    }
   ],
   "source": [
    "# dane heart.csv\n",
    "df_heart = pd.read_csv(\"C:/Users/Dominika/Desktop/IiE/Uczenie maszynowe/zaj3_Heart.csv\", sep=';')\n",
    "df_heart[\"Sex\"] = df_heart[\"Sex\"].map({'M': 1, 'F': 0}) \n",
    "df_heart[\"ExerciseAngina\"] = df_heart[\"ExerciseAngina\"].map({'Y': 1, 'N': 0})\n",
    "df_heart = pd.get_dummies(df_heart, columns=['ChestPainType', 'RestingECG', 'ST_Slope'], drop_first=True)\n",
    "df_heart = df_heart.astype(int, errors='ignore')\n",
    "print(df_heart.head())"
   ]
  }
 ],
 "metadata": {
  "kernelspec": {
   "display_name": "Python 3",
   "language": "python",
   "name": "python3"
  },
  "language_info": {
   "codemirror_mode": {
    "name": "ipython",
    "version": 3
   },
   "file_extension": ".py",
   "mimetype": "text/x-python",
   "name": "python",
   "nbconvert_exporter": "python",
   "pygments_lexer": "ipython3",
   "version": "3.10.11"
  }
 },
 "nbformat": 4,
 "nbformat_minor": 5
}
